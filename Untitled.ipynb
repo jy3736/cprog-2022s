{
 "cells": [
  {
   "cell_type": "code",
   "execution_count": null,
   "id": "ed24b9b5-7965-46a3-8b66-50d14c0a6eb9",
   "metadata": {},
   "outputs": [],
   "source": []
  },
  {
   "cell_type": "code",
   "execution_count": 26,
   "id": "62756623-32c1-44d2-9f08-e0487688ae65",
   "metadata": {},
   "outputs": [
    {
     "data": {
      "text/plain": [
       "[[31.0,\n",
       "  38.0,\n",
       "  6.0,\n",
       "  13.0,\n",
       "  27.5,\n",
       "  23.5,\n",
       "  27.0,\n",
       "  29.0,\n",
       "  7.0,\n",
       "  44.5,\n",
       "  35.0,\n",
       "  1.5,\n",
       "  23.0,\n",
       "  1.5],\n",
       " [93.0,\n",
       "  114.0,\n",
       "  18.0,\n",
       "  39.0,\n",
       "  82.5,\n",
       "  70.5,\n",
       "  81.0,\n",
       "  87.0,\n",
       "  21.0,\n",
       "  133.5,\n",
       "  105.0,\n",
       "  4.5,\n",
       "  69.0,\n",
       "  4.5],\n",
       " [0, 0, 0, 0, 0, 0, 0, 0, 0, 0, 0, 0, 0, 0]]"
      ]
     },
     "execution_count": 26,
     "metadata": {},
     "output_type": "execute_result"
    }
   ],
   "source": [
    "from random import randint\n",
    "\n",
    "def mul(dat):\n",
    "    datx = [[v*0.5 for v in dat]]\n",
    "    datx.append([v*1.5 for v in dat])\n",
    "    datx.append([v*0 for v in dat])\n",
    "    return datx\n",
    "\n",
    "def expected():\n",
    "    dat = [randint(1, 100) for _ in range(randint(5, 15))]\n",
    "    idat = \" \".join([str(_) for _ in dat])\n",
    "    return idat, mul(dat)\n",
    "\n",
    "expected()\n"
   ]
  },
  {
   "cell_type": "code",
   "execution_count": 15,
   "id": "36dbd258-3d78-49a7-9cff-74cb798ca9dc",
   "metadata": {},
   "outputs": [],
   "source": [
    "dat, odat = expected()"
   ]
  },
  {
   "cell_type": "code",
   "execution_count": 19,
   "id": "c54852bb-bf7e-4a87-9383-27224a39ee7f",
   "metadata": {},
   "outputs": [
    {
     "name": "stdout",
     "output_type": "stream",
     "text": [
      "19.67\n",
      "6.0\n",
      "22.33\n",
      "1.667\n",
      "2.667\n",
      "25.33\n",
      "30.33\n"
     ]
    }
   ],
   "source": [
    "for v in odat:\n",
    "    print(f\"{v:.4}\")"
   ]
  },
  {
   "cell_type": "code",
   "execution_count": 27,
   "id": "4c76f77e-22be-4c1a-89ea-1057b19b3be1",
   "metadata": {},
   "outputs": [
    {
     "name": "stdout",
     "output_type": "stream",
     "text": [
      "[[False, False], [True, True]]\n"
     ]
    }
   ],
   "source": [
    "def compare(matrix,flo):\n",
    "    return  [[x>flo for x in y] for y in matrix]\n",
    "\n",
    "matrix= [[0,1],[2,3]]\n",
    "print(compare(matrix,1.5))"
   ]
  },
  {
   "cell_type": "code",
   "execution_count": null,
   "id": "35ac6579-170a-4fcc-b5bc-f7b0ee2d486a",
   "metadata": {},
   "outputs": [],
   "source": []
  }
 ],
 "metadata": {
  "kernelspec": {
   "display_name": "Python 3 (ipykernel)",
   "language": "python",
   "name": "python3"
  },
  "language_info": {
   "codemirror_mode": {
    "name": "ipython",
    "version": 3
   },
   "file_extension": ".py",
   "mimetype": "text/x-python",
   "name": "python",
   "nbconvert_exporter": "python",
   "pygments_lexer": "ipython3",
   "version": "3.9.7"
  }
 },
 "nbformat": 4,
 "nbformat_minor": 5
}
