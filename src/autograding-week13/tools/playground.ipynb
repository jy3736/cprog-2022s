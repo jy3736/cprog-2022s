{
 "cells": [
  {
   "cell_type": "code",
   "execution_count": 1,
   "id": "b8ec4de7-5b23-4053-a670-b0d5f399b779",
   "metadata": {},
   "outputs": [],
   "source": [
    "import chk_hw03"
   ]
  },
  {
   "cell_type": "code",
   "execution_count": 2,
   "id": "74d827ff-e512-44e3-9eef-b868039c795f",
   "metadata": {},
   "outputs": [],
   "source": [
    "a = [1,2,3]"
   ]
  },
  {
   "cell_type": "code",
   "execution_count": 4,
   "id": "c38f29db-b084-4215-893f-c71a2a2862e0",
   "metadata": {},
   "outputs": [
    {
     "name": "stdout",
     "output_type": "stream",
     "text": [
      "True\n"
     ]
    }
   ],
   "source": [
    "print(1 in a)"
   ]
  },
  {
   "cell_type": "code",
   "execution_count": null,
   "id": "620bd319-1531-4a05-aa6a-cc545462dae9",
   "metadata": {},
   "outputs": [],
   "source": []
  }
 ],
 "metadata": {
  "kernelspec": {
   "display_name": "Python 3 (ipykernel)",
   "language": "python",
   "name": "python3"
  },
  "language_info": {
   "codemirror_mode": {
    "name": "ipython",
    "version": 3
   },
   "file_extension": ".py",
   "mimetype": "text/x-python",
   "name": "python",
   "nbconvert_exporter": "python",
   "pygments_lexer": "ipython3",
   "version": "3.9.7"
  }
 },
 "nbformat": 4,
 "nbformat_minor": 5
}
