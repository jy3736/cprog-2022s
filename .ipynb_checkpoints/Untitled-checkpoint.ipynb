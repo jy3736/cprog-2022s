{
 "cells": [
  {
   "cell_type": "code",
   "execution_count": null,
   "id": "ed24b9b5-7965-46a3-8b66-50d14c0a6eb9",
   "metadata": {},
   "outputs": [],
   "source": []
  },
  {
   "cell_type": "code",
   "execution_count": 23,
   "id": "62756623-32c1-44d2-9f08-e0487688ae65",
   "metadata": {},
   "outputs": [
    {
     "data": {
      "text/plain": [
       "[['8.833', '5.0', '14.33', '10.83', '4.833', '2.167'],\n",
       " ['26.5', '15.0', '43.0', '32.5', '14.5', '6.5'],\n",
       " ['0.0', '0.0', '0.0', '0.0', '0.0', '0.0']]"
      ]
     },
     "execution_count": 23,
     "metadata": {},
     "output_type": "execute_result"
    }
   ],
   "source": [
    "from random import randint\n",
    "\n",
    "def mul(dat):\n",
    "    datx = [[v*0.5 for v in dat]]\n",
    "    datx.append([v*1.5:.4\" for v in dat])\n",
    "    datx.append([v*0 for v in dat])\n",
    "    return datx\n",
    "\n",
    "def expected():\n",
    "    dat = [randint(1, 100) for _ in range(randint(5, 15))]\n",
    "    idat = \" \".join([str(_) for _ in dat])\n",
    "    dat = [_/3 for _ in dat]\n",
    "    return mul(dat)\n",
    "\n",
    "expected()\n"
   ]
  },
  {
   "cell_type": "code",
   "execution_count": 15,
   "id": "36dbd258-3d78-49a7-9cff-74cb798ca9dc",
   "metadata": {},
   "outputs": [],
   "source": [
    "dat, odat = expected()"
   ]
  },
  {
   "cell_type": "code",
   "execution_count": 19,
   "id": "c54852bb-bf7e-4a87-9383-27224a39ee7f",
   "metadata": {},
   "outputs": [
    {
     "name": "stdout",
     "output_type": "stream",
     "text": [
      "19.67\n",
      "6.0\n",
      "22.33\n",
      "1.667\n",
      "2.667\n",
      "25.33\n",
      "30.33\n"
     ]
    }
   ],
   "source": [
    "for v in odat:\n",
    "    print(f\"{v:.4}\")"
   ]
  },
  {
   "cell_type": "code",
   "execution_count": null,
   "id": "4c76f77e-22be-4c1a-89ea-1057b19b3be1",
   "metadata": {},
   "outputs": [],
   "source": []
  }
 ],
 "metadata": {
  "kernelspec": {
   "display_name": "Python 3 (ipykernel)",
   "language": "python",
   "name": "python3"
  },
  "language_info": {
   "codemirror_mode": {
    "name": "ipython",
    "version": 3
   },
   "file_extension": ".py",
   "mimetype": "text/x-python",
   "name": "python",
   "nbconvert_exporter": "python",
   "pygments_lexer": "ipython3",
   "version": "3.9.7"
  }
 },
 "nbformat": 4,
 "nbformat_minor": 5
}
